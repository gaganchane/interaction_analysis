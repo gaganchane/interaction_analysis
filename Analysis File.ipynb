{
 "cells": [
  {
   "cell_type": "code",
   "execution_count": 1,
   "metadata": {},
   "outputs": [],
   "source": [
    "import numpy as np\n",
    "import pandas as pd\n",
    "import gc\n",
    "import warnings\n",
    "warnings.filterwarnings('ignore')"
   ]
  },
  {
   "cell_type": "code",
   "execution_count": 2,
   "metadata": {},
   "outputs": [
    {
     "data": {
      "text/html": [
       "<div>\n",
       "<style scoped>\n",
       "    .dataframe tbody tr th:only-of-type {\n",
       "        vertical-align: middle;\n",
       "    }\n",
       "\n",
       "    .dataframe tbody tr th {\n",
       "        vertical-align: top;\n",
       "    }\n",
       "\n",
       "    .dataframe thead th {\n",
       "        text-align: right;\n",
       "    }\n",
       "</style>\n",
       "<table border=\"1\" class=\"dataframe\">\n",
       "  <thead>\n",
       "    <tr style=\"text-align: right;\">\n",
       "      <th></th>\n",
       "      <th>interaction_time</th>\n",
       "      <th>user_id</th>\n",
       "      <th>item_id</th>\n",
       "      <th>interaction_type</th>\n",
       "      <th>price</th>\n",
       "    </tr>\n",
       "  </thead>\n",
       "  <tbody>\n",
       "    <tr>\n",
       "      <th>0</th>\n",
       "      <td>2019-10-01 00:00:00</td>\n",
       "      <td>0fdce5b4-6c26-46fc-99d9</td>\n",
       "      <td>5773203</td>\n",
       "      <td>AddToCart</td>\n",
       "      <td>2.62</td>\n",
       "    </tr>\n",
       "    <tr>\n",
       "      <th>1</th>\n",
       "      <td>2019-10-01 00:00:03</td>\n",
       "      <td>0fdce5b4-6c26-46fc-99d9</td>\n",
       "      <td>5773353</td>\n",
       "      <td>AddToCart</td>\n",
       "      <td>2.62</td>\n",
       "    </tr>\n",
       "    <tr>\n",
       "      <th>2</th>\n",
       "      <td>2019-10-01 00:00:07</td>\n",
       "      <td>e01d554a-9df4-427d-b13d</td>\n",
       "      <td>5881589</td>\n",
       "      <td>AddToCart</td>\n",
       "      <td>13.48</td>\n",
       "    </tr>\n",
       "    <tr>\n",
       "      <th>3</th>\n",
       "      <td>2019-10-01 00:00:07</td>\n",
       "      <td>0fdce5b4-6c26-46fc-99d9</td>\n",
       "      <td>5723490</td>\n",
       "      <td>AddToCart</td>\n",
       "      <td>2.62</td>\n",
       "    </tr>\n",
       "    <tr>\n",
       "      <th>4</th>\n",
       "      <td>2019-10-01 00:00:15</td>\n",
       "      <td>e01d554a-9df4-427d-b13d</td>\n",
       "      <td>5881449</td>\n",
       "      <td>AddToCart</td>\n",
       "      <td>0.56</td>\n",
       "    </tr>\n",
       "  </tbody>\n",
       "</table>\n",
       "</div>"
      ],
      "text/plain": [
       "      interaction_time                  user_id  item_id interaction_type  \\\n",
       "0  2019-10-01 00:00:00  0fdce5b4-6c26-46fc-99d9  5773203        AddToCart   \n",
       "1  2019-10-01 00:00:03  0fdce5b4-6c26-46fc-99d9  5773353        AddToCart   \n",
       "2  2019-10-01 00:00:07  e01d554a-9df4-427d-b13d  5881589        AddToCart   \n",
       "3  2019-10-01 00:00:07  0fdce5b4-6c26-46fc-99d9  5723490        AddToCart   \n",
       "4  2019-10-01 00:00:15  e01d554a-9df4-427d-b13d  5881449        AddToCart   \n",
       "\n",
       "   price  \n",
       "0   2.62  \n",
       "1   2.62  \n",
       "2  13.48  \n",
       "3   2.62  \n",
       "4   0.56  "
      ]
     },
     "execution_count": 2,
     "metadata": {},
     "output_type": "execute_result"
    }
   ],
   "source": [
    "# direct the path to appropriate data location\n",
    "interact_oct2019 = pd.read_csv('./data/interactions-2019-Oct.csv')\n",
    "interact_nov2019 = pd.read_csv('./data/interactions-2019-Nov.csv')\n",
    "interact_dec2019 = pd.read_csv('./data/interactions-2019-Dec.csv')\n",
    "interact_jan2020 = pd.read_csv('./data/interactions-2020-Jan.csv')\n",
    "interact_feb2020 = pd.read_csv('./data/interactions-2020-Feb.csv')\n",
    "items = pd.read_csv('./data/items_catalog.csv')\n",
    "interact_oct2019.head()"
   ]
  },
  {
   "cell_type": "code",
   "execution_count": 3,
   "metadata": {},
   "outputs": [
    {
     "data": {
      "text/plain": [
       "49"
      ]
     },
     "execution_count": 3,
     "metadata": {},
     "output_type": "execute_result"
    }
   ],
   "source": [
    "interactions = pd.concat([interact_oct2019, interact_nov2019, interact_dec2019, \n",
    "                          interact_jan2020, interact_feb2020]).reset_index()\n",
    "\n",
    "del interact_oct2019\n",
    "del interact_nov2019\n",
    "del interact_dec2019\n",
    "del interact_jan2020\n",
    "del interact_feb2020\n",
    "gc.collect() # garbage collect"
   ]
  },
  {
   "cell_type": "code",
   "execution_count": 4,
   "metadata": {},
   "outputs": [
    {
     "name": "stdout",
     "output_type": "stream",
     "text": [
      "<class 'pandas.core.frame.DataFrame'>\n",
      "RangeIndex: 20692840 entries, 0 to 20692839\n",
      "Data columns (total 6 columns):\n",
      " #   Column            Dtype  \n",
      "---  ------            -----  \n",
      " 0   index             int64  \n",
      " 1   interaction_time  object \n",
      " 2   user_id           object \n",
      " 3   item_id           int64  \n",
      " 4   interaction_type  object \n",
      " 5   price             float64\n",
      "dtypes: float64(1), int64(2), object(3)\n",
      "memory usage: 947.2+ MB\n"
     ]
    }
   ],
   "source": [
    "interactions.info()"
   ]
  },
  {
   "cell_type": "code",
   "execution_count": 5,
   "metadata": {},
   "outputs": [],
   "source": [
    "# changing variables to appropriate types, this can save memory\n",
    "interactions['interaction_time'] = pd.to_datetime(interactions['interaction_time'])\n",
    "interactions[\"interaction_type\"] = interactions[\"interaction_type\"].astype(\"category\")\n",
    "interactions[\"price\"] = interactions[\"price\"].astype(\"float32\")"
   ]
  },
  {
   "cell_type": "code",
   "execution_count": 6,
   "metadata": {},
   "outputs": [
    {
     "name": "stdout",
     "output_type": "stream",
     "text": [
      "<class 'pandas.core.frame.DataFrame'>\n",
      "RangeIndex: 20692840 entries, 0 to 20692839\n",
      "Data columns (total 6 columns):\n",
      " #   Column            Dtype         \n",
      "---  ------            -----         \n",
      " 0   index             int64         \n",
      " 1   interaction_time  datetime64[ns]\n",
      " 2   user_id           object        \n",
      " 3   item_id           int64         \n",
      " 4   interaction_type  category      \n",
      " 5   price             float32       \n",
      "dtypes: category(1), datetime64[ns](1), float32(1), int64(2), object(1)\n",
      "memory usage: 730.2+ MB\n"
     ]
    }
   ],
   "source": [
    "interactions.info() # interactions df memory reduced from 947 MB to 730 MB"
   ]
  },
  {
   "cell_type": "markdown",
   "metadata": {},
   "source": [
    "### First visit, last visit, average gap between visits (null for users with only 1 visit)"
   ]
  },
  {
   "cell_type": "code",
   "execution_count": 7,
   "metadata": {},
   "outputs": [
    {
     "data": {
      "text/html": [
       "<div>\n",
       "<style scoped>\n",
       "    .dataframe tbody tr th:only-of-type {\n",
       "        vertical-align: middle;\n",
       "    }\n",
       "\n",
       "    .dataframe tbody tr th {\n",
       "        vertical-align: top;\n",
       "    }\n",
       "\n",
       "    .dataframe thead th {\n",
       "        text-align: right;\n",
       "    }\n",
       "</style>\n",
       "<table border=\"1\" class=\"dataframe\">\n",
       "  <thead>\n",
       "    <tr style=\"text-align: right;\">\n",
       "      <th></th>\n",
       "      <th>user_id</th>\n",
       "      <th>first_visit_date</th>\n",
       "      <th>last_visit_date</th>\n",
       "      <th>count</th>\n",
       "      <th>avg_gap</th>\n",
       "    </tr>\n",
       "  </thead>\n",
       "  <tbody>\n",
       "    <tr>\n",
       "      <th>0</th>\n",
       "      <td>00000a88-2beb-4f3a-bf8a</td>\n",
       "      <td>2019-12-16 09:15:42</td>\n",
       "      <td>2020-02-26 12:59:50</td>\n",
       "      <td>25</td>\n",
       "      <td>3 days 00:09:20.333333</td>\n",
       "    </tr>\n",
       "    <tr>\n",
       "      <th>1</th>\n",
       "      <td>00000cfa-9a75-4ee4-8ff0</td>\n",
       "      <td>2020-02-07 15:53:22</td>\n",
       "      <td>2020-02-29 04:19:54</td>\n",
       "      <td>3</td>\n",
       "      <td>10 days 18:13:16</td>\n",
       "    </tr>\n",
       "    <tr>\n",
       "      <th>2</th>\n",
       "      <td>00001957-83e2-4e36-aacf</td>\n",
       "      <td>2020-01-31 07:07:19</td>\n",
       "      <td>2020-02-11 15:06:17</td>\n",
       "      <td>25</td>\n",
       "      <td>0 days 11:19:57.416666</td>\n",
       "    </tr>\n",
       "  </tbody>\n",
       "</table>\n",
       "</div>"
      ],
      "text/plain": [
       "                   user_id    first_visit_date     last_visit_date  count  \\\n",
       "0  00000a88-2beb-4f3a-bf8a 2019-12-16 09:15:42 2020-02-26 12:59:50     25   \n",
       "1  00000cfa-9a75-4ee4-8ff0 2020-02-07 15:53:22 2020-02-29 04:19:54      3   \n",
       "2  00001957-83e2-4e36-aacf 2020-01-31 07:07:19 2020-02-11 15:06:17     25   \n",
       "\n",
       "                 avg_gap  \n",
       "0 3 days 00:09:20.333333  \n",
       "1       10 days 18:13:16  \n",
       "2 0 days 11:19:57.416666  "
      ]
     },
     "execution_count": 7,
     "metadata": {},
     "output_type": "execute_result"
    }
   ],
   "source": [
    "# first visit datetime, last visit datetime\n",
    "# for each user, difference between multiple interactions is tracked and then the mean of this is computed\n",
    "user_df = interactions.groupby('user_id').interaction_time.agg(first_visit_date=np.min, \n",
    "                                                               last_visit_date=np.max,\n",
    "                                                               count='count',\n",
    "                                                               avg_gap=lambda user: user.diff().mean()).reset_index()\n",
    "user_df.head(3)"
   ]
  },
  {
   "cell_type": "markdown",
   "metadata": {},
   "source": [
    "### Average Monthly Spend - Only considers months after user makes first visit\n",
    "Average monthly spend = Total Spend/Months till latest date (Feb) after 1st visit"
   ]
  },
  {
   "cell_type": "code",
   "execution_count": 8,
   "metadata": {},
   "outputs": [
    {
     "data": {
      "text/html": [
       "<div>\n",
       "<style scoped>\n",
       "    .dataframe tbody tr th:only-of-type {\n",
       "        vertical-align: middle;\n",
       "    }\n",
       "\n",
       "    .dataframe tbody tr th {\n",
       "        vertical-align: top;\n",
       "    }\n",
       "\n",
       "    .dataframe thead th {\n",
       "        text-align: right;\n",
       "    }\n",
       "</style>\n",
       "<table border=\"1\" class=\"dataframe\">\n",
       "  <thead>\n",
       "    <tr style=\"text-align: right;\">\n",
       "      <th></th>\n",
       "      <th>user_id</th>\n",
       "      <th>first_visit_date</th>\n",
       "      <th>last_visit_date</th>\n",
       "      <th>count</th>\n",
       "      <th>avg_gap</th>\n",
       "      <th>months_after_first_visit</th>\n",
       "    </tr>\n",
       "  </thead>\n",
       "  <tbody>\n",
       "    <tr>\n",
       "      <th>0</th>\n",
       "      <td>00000a88-2beb-4f3a-bf8a</td>\n",
       "      <td>2019-12-16 09:15:42</td>\n",
       "      <td>2020-02-26 12:59:50</td>\n",
       "      <td>25</td>\n",
       "      <td>3 days 00:09:20.333333</td>\n",
       "      <td>2.5</td>\n",
       "    </tr>\n",
       "    <tr>\n",
       "      <th>1</th>\n",
       "      <td>00000cfa-9a75-4ee4-8ff0</td>\n",
       "      <td>2020-02-07 15:53:22</td>\n",
       "      <td>2020-02-29 04:19:54</td>\n",
       "      <td>3</td>\n",
       "      <td>10 days 18:13:16</td>\n",
       "      <td>0.7</td>\n",
       "    </tr>\n",
       "  </tbody>\n",
       "</table>\n",
       "</div>"
      ],
      "text/plain": [
       "                   user_id    first_visit_date     last_visit_date  count  \\\n",
       "0  00000a88-2beb-4f3a-bf8a 2019-12-16 09:15:42 2020-02-26 12:59:50     25   \n",
       "1  00000cfa-9a75-4ee4-8ff0 2020-02-07 15:53:22 2020-02-29 04:19:54      3   \n",
       "\n",
       "                 avg_gap  months_after_first_visit  \n",
       "0 3 days 00:09:20.333333                       2.5  \n",
       "1       10 days 18:13:16                       0.7  "
      ]
     },
     "execution_count": 8,
     "metadata": {},
     "output_type": "execute_result"
    }
   ],
   "source": [
    "# months_after_first_visit - time in months between the first visit and the end of the latest month of data\n",
    "latest_date = interactions.interaction_time.max()\n",
    "user_df['months_after_first_visit'] = round((latest_date - user_df.first_visit_date)/np.timedelta64(1, 'M'),1)\n",
    "user_df.head(2)"
   ]
  },
  {
   "cell_type": "code",
   "execution_count": 9,
   "metadata": {},
   "outputs": [
    {
     "data": {
      "text/html": [
       "<div>\n",
       "<style scoped>\n",
       "    .dataframe tbody tr th:only-of-type {\n",
       "        vertical-align: middle;\n",
       "    }\n",
       "\n",
       "    .dataframe tbody tr th {\n",
       "        vertical-align: top;\n",
       "    }\n",
       "\n",
       "    .dataframe thead th {\n",
       "        text-align: right;\n",
       "    }\n",
       "</style>\n",
       "<table border=\"1\" class=\"dataframe\">\n",
       "  <thead>\n",
       "    <tr style=\"text-align: right;\">\n",
       "      <th></th>\n",
       "      <th>user_id</th>\n",
       "      <th>total_spend</th>\n",
       "    </tr>\n",
       "  </thead>\n",
       "  <tbody>\n",
       "    <tr>\n",
       "      <th>0</th>\n",
       "      <td>000148b5-6ec2-47a5-83ba</td>\n",
       "      <td>64.260002</td>\n",
       "    </tr>\n",
       "    <tr>\n",
       "      <th>1</th>\n",
       "      <td>0002c237-9155-4d19-a0b4</td>\n",
       "      <td>133.540009</td>\n",
       "    </tr>\n",
       "  </tbody>\n",
       "</table>\n",
       "</div>"
      ],
      "text/plain": [
       "                   user_id  total_spend\n",
       "0  000148b5-6ec2-47a5-83ba    64.260002\n",
       "1  0002c237-9155-4d19-a0b4   133.540009"
      ]
     },
     "execution_count": 9,
     "metadata": {},
     "output_type": "execute_result"
    }
   ],
   "source": [
    "# filtering purchase interactions and capturing total spend per user, later used to capture monthly spend\n",
    "user_total_spend = interactions[interactions.interaction_type == 'Purchase'] \\\n",
    "                    .groupby('user_id').price.agg(total_spend = np.sum).reset_index()\n",
    "\n",
    "user_total_spend.head(2)"
   ]
  },
  {
   "cell_type": "code",
   "execution_count": 10,
   "metadata": {},
   "outputs": [],
   "source": [
    "user_df = user_df.merge(user_total_spend, on = 'user_id', how = 'left')\n",
    "user_df['total_spend'] = user_df.total_spend.fillna(0) # users with no spending"
   ]
  },
  {
   "cell_type": "code",
   "execution_count": 11,
   "metadata": {},
   "outputs": [],
   "source": [
    "user_df['avg_monthly_spending'] = user_df.total_spend/user_df.months_after_first_visit"
   ]
  },
  {
   "cell_type": "markdown",
   "metadata": {},
   "source": [
    "### Favorite Brand"
   ]
  },
  {
   "cell_type": "code",
   "execution_count": 12,
   "metadata": {},
   "outputs": [],
   "source": [
    "# for items that have multiple brands, the first occuring brand that doesn't have the value \"(not set)\" is taken\n",
    "items['item_id_count'] = items.item_id.map(items.item_id.value_counts())\n",
    "\n",
    "items = items[~((items['item_id_count'] > 1) & (items['brand'] == '(not set)'))] \\\n",
    "         .drop_duplicates(subset='item_id', keep=\"first\")[['item_id', 'brand']]"
   ]
  },
  {
   "cell_type": "code",
   "execution_count": 13,
   "metadata": {},
   "outputs": [],
   "source": [
    "interactions = interactions.merge(items, on = 'item_id', how = 'left')"
   ]
  },
  {
   "cell_type": "code",
   "execution_count": 14,
   "metadata": {},
   "outputs": [
    {
     "data": {
      "text/html": [
       "<div>\n",
       "<style scoped>\n",
       "    .dataframe tbody tr th:only-of-type {\n",
       "        vertical-align: middle;\n",
       "    }\n",
       "\n",
       "    .dataframe tbody tr th {\n",
       "        vertical-align: top;\n",
       "    }\n",
       "\n",
       "    .dataframe thead th {\n",
       "        text-align: right;\n",
       "    }\n",
       "</style>\n",
       "<table border=\"1\" class=\"dataframe\">\n",
       "  <thead>\n",
       "    <tr style=\"text-align: right;\">\n",
       "      <th></th>\n",
       "      <th>index</th>\n",
       "      <th>interaction_time</th>\n",
       "      <th>user_id</th>\n",
       "      <th>item_id</th>\n",
       "      <th>interaction_type</th>\n",
       "      <th>price</th>\n",
       "      <th>brand</th>\n",
       "    </tr>\n",
       "  </thead>\n",
       "  <tbody>\n",
       "    <tr>\n",
       "      <th>0</th>\n",
       "      <td>0</td>\n",
       "      <td>2019-10-01 00:00:00</td>\n",
       "      <td>0fdce5b4-6c26-46fc-99d9</td>\n",
       "      <td>5773203</td>\n",
       "      <td>AddToCart</td>\n",
       "      <td>2.62</td>\n",
       "      <td>Mykek</td>\n",
       "    </tr>\n",
       "    <tr>\n",
       "      <th>1</th>\n",
       "      <td>1</td>\n",
       "      <td>2019-10-01 00:00:03</td>\n",
       "      <td>0fdce5b4-6c26-46fc-99d9</td>\n",
       "      <td>5773353</td>\n",
       "      <td>AddToCart</td>\n",
       "      <td>2.62</td>\n",
       "      <td>Mykek</td>\n",
       "    </tr>\n",
       "  </tbody>\n",
       "</table>\n",
       "</div>"
      ],
      "text/plain": [
       "   index    interaction_time                  user_id  item_id  \\\n",
       "0      0 2019-10-01 00:00:00  0fdce5b4-6c26-46fc-99d9  5773203   \n",
       "1      1 2019-10-01 00:00:03  0fdce5b4-6c26-46fc-99d9  5773353   \n",
       "\n",
       "  interaction_type  price  brand  \n",
       "0        AddToCart   2.62  Mykek  \n",
       "1        AddToCart   2.62  Mykek  "
      ]
     },
     "execution_count": 14,
     "metadata": {},
     "output_type": "execute_result"
    }
   ],
   "source": [
    "interactions.head(2)"
   ]
  },
  {
   "cell_type": "markdown",
   "metadata": {},
   "source": [
    "The favorite brand for each user is determined in a hierarchical fashion. The following is the priority in which the brands are selected for each user:\n",
    "\n",
    "1) Most frequently occuring brand with respect to purchase interactions \\\n",
    "2) Most frequently occuring brand with respect to \"Add to Cart\" interactions \\\n",
    "3) Most frequently occuring brand with respect to other types of interactions"
   ]
  },
  {
   "cell_type": "code",
   "execution_count": 15,
   "metadata": {},
   "outputs": [],
   "source": [
    "purchase_interactions = interactions[interactions['interaction_type'].str.contains(\"Purchase\")]\n",
    "\n",
    "# frequency of each brand that was purchased from and selecting the one with the highest count as the favorite brand\n",
    "purchase_brands = purchase_interactions.groupby('user_id').brand.value_counts().reset_index(name=\"count\")\n",
    "purchase_fav_brand = purchase_brands.drop_duplicates('user_id')[['user_id','brand']]"
   ]
  },
  {
   "cell_type": "code",
   "execution_count": 16,
   "metadata": {},
   "outputs": [],
   "source": [
    "addcart_interactions = interactions[interactions['interaction_type'].str.contains(\"AddToCart\")]\n",
    "\n",
    "# removing users that are captured through purchase interactions\n",
    "addcart_interactions = addcart_interactions[~addcart_interactions['user_id'].isin(purchase_fav_brand['user_id'])]\n",
    "\n",
    "# frequency of each brand that was added to cart and selecting the one with the highest count as the favorite brand\n",
    "addcart_brands = addcart_interactions.groupby('user_id').brand.value_counts().reset_index(name=\"count\")\n",
    "addcart_fav_brand = addcart_brands.drop_duplicates('user_id')[['user_id','brand']]"
   ]
  },
  {
   "cell_type": "code",
   "execution_count": 17,
   "metadata": {},
   "outputs": [],
   "source": [
    "# filtering for other interactions\n",
    "other_interactions = interactions[~interactions['interaction_type'].str.contains(\"Purchase|AddToCart\")]\n",
    "\n",
    "# removing users that are captured through purchase and add to cart interactions\n",
    "other_interactions = other_interactions[~other_interactions['user_id'].isin(purchase_fav_brand['user_id'])]\n",
    "other_interactions = other_interactions[~other_interactions['user_id'].isin(addcart_fav_brand['user_id'])]\n",
    "\n",
    "# frequency of each brand through other interactions and selecting the one with the highest count as the favorite brand\n",
    "otherint_brands = other_interactions.groupby('user_id').brand.value_counts().reset_index(name=\"count\")\n",
    "otherint_fav_brand = otherint_brands.drop_duplicates('user_id')[['user_id','brand']]\n"
   ]
  },
  {
   "cell_type": "code",
   "execution_count": 18,
   "metadata": {},
   "outputs": [],
   "source": [
    "fav_brand_df = pd.concat([purchase_fav_brand, addcart_fav_brand, otherint_fav_brand])"
   ]
  },
  {
   "cell_type": "code",
   "execution_count": 19,
   "metadata": {},
   "outputs": [],
   "source": [
    "user_df = user_df.merge(fav_brand_df, on = 'user_id', how = 'left')\n",
    "user_df = user_df[['user_id', 'first_visit_date', 'last_visit_date', 'avg_gap', 'avg_monthly_spending', 'brand']]"
   ]
  },
  {
   "cell_type": "code",
   "execution_count": 23,
   "metadata": {},
   "outputs": [
    {
     "data": {
      "text/html": [
       "<div>\n",
       "<style scoped>\n",
       "    .dataframe tbody tr th:only-of-type {\n",
       "        vertical-align: middle;\n",
       "    }\n",
       "\n",
       "    .dataframe tbody tr th {\n",
       "        vertical-align: top;\n",
       "    }\n",
       "\n",
       "    .dataframe thead th {\n",
       "        text-align: right;\n",
       "    }\n",
       "</style>\n",
       "<table border=\"1\" class=\"dataframe\">\n",
       "  <thead>\n",
       "    <tr style=\"text-align: right;\">\n",
       "      <th></th>\n",
       "      <th>user_id</th>\n",
       "      <th>first_visit_date</th>\n",
       "      <th>last_visit_date</th>\n",
       "      <th>avg_gap</th>\n",
       "      <th>avg_monthly_spending</th>\n",
       "      <th>brand</th>\n",
       "    </tr>\n",
       "  </thead>\n",
       "  <tbody>\n",
       "    <tr>\n",
       "      <th>0</th>\n",
       "      <td>00000a88-2beb-4f3a-bf8a</td>\n",
       "      <td>2019-12-16 09:15:42</td>\n",
       "      <td>2020-02-26 12:59:50</td>\n",
       "      <td>3 days 00:09:20.333333</td>\n",
       "      <td>0.0</td>\n",
       "      <td>(not set)</td>\n",
       "    </tr>\n",
       "    <tr>\n",
       "      <th>1</th>\n",
       "      <td>00000cfa-9a75-4ee4-8ff0</td>\n",
       "      <td>2020-02-07 15:53:22</td>\n",
       "      <td>2020-02-29 04:19:54</td>\n",
       "      <td>10 days 18:13:16</td>\n",
       "      <td>0.0</td>\n",
       "      <td>Beb ip aq</td>\n",
       "    </tr>\n",
       "    <tr>\n",
       "      <th>2</th>\n",
       "      <td>00001957-83e2-4e36-aacf</td>\n",
       "      <td>2020-01-31 07:07:19</td>\n",
       "      <td>2020-02-11 15:06:17</td>\n",
       "      <td>0 days 11:19:57.416666</td>\n",
       "      <td>0.0</td>\n",
       "      <td>(not set)</td>\n",
       "    </tr>\n",
       "    <tr>\n",
       "      <th>3</th>\n",
       "      <td>00001af7-43f5-4c04-be0e</td>\n",
       "      <td>2020-02-13 18:08:22</td>\n",
       "      <td>2020-02-20 16:16:13</td>\n",
       "      <td>0 days 07:13:23.086956</td>\n",
       "      <td>0.0</td>\n",
       "      <td>Kenu hijy</td>\n",
       "    </tr>\n",
       "    <tr>\n",
       "      <th>4</th>\n",
       "      <td>0000200c-8a05-44d7-bbd6</td>\n",
       "      <td>2019-11-29 12:45:04</td>\n",
       "      <td>2019-11-29 12:45:04</td>\n",
       "      <td>NaT</td>\n",
       "      <td>0.0</td>\n",
       "      <td>Kyyo</td>\n",
       "    </tr>\n",
       "  </tbody>\n",
       "</table>\n",
       "</div>"
      ],
      "text/plain": [
       "                   user_id    first_visit_date     last_visit_date  \\\n",
       "0  00000a88-2beb-4f3a-bf8a 2019-12-16 09:15:42 2020-02-26 12:59:50   \n",
       "1  00000cfa-9a75-4ee4-8ff0 2020-02-07 15:53:22 2020-02-29 04:19:54   \n",
       "2  00001957-83e2-4e36-aacf 2020-01-31 07:07:19 2020-02-11 15:06:17   \n",
       "3  00001af7-43f5-4c04-be0e 2020-02-13 18:08:22 2020-02-20 16:16:13   \n",
       "4  0000200c-8a05-44d7-bbd6 2019-11-29 12:45:04 2019-11-29 12:45:04   \n",
       "\n",
       "                 avg_gap  avg_monthly_spending      brand  \n",
       "0 3 days 00:09:20.333333                   0.0  (not set)  \n",
       "1       10 days 18:13:16                   0.0  Beb ip aq  \n",
       "2 0 days 11:19:57.416666                   0.0  (not set)  \n",
       "3 0 days 07:13:23.086956                   0.0  Kenu hijy  \n",
       "4                    NaT                   0.0       Kyyo  "
      ]
     },
     "execution_count": 23,
     "metadata": {},
     "output_type": "execute_result"
    }
   ],
   "source": [
    "user_df.head()"
   ]
  },
  {
   "cell_type": "code",
   "execution_count": null,
   "metadata": {},
   "outputs": [],
   "source": []
  }
 ],
 "metadata": {
  "kernelspec": {
   "display_name": "Python 3",
   "language": "python",
   "name": "python3"
  },
  "language_info": {
   "codemirror_mode": {
    "name": "ipython",
    "version": 3
   },
   "file_extension": ".py",
   "mimetype": "text/x-python",
   "name": "python",
   "nbconvert_exporter": "python",
   "pygments_lexer": "ipython3",
   "version": "3.7.6"
  }
 },
 "nbformat": 4,
 "nbformat_minor": 4
}
